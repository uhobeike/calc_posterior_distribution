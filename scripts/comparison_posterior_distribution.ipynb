{
 "cells": [
  {
   "cell_type": "code",
   "execution_count": 58,
   "metadata": {},
   "outputs": [],
   "source": [
    "import sys\n",
    "\n",
    "import numpy as np\n",
    "import matplotlib.pyplot as plt\n",
    "\n",
    "from mpl_toolkits.axisartist.axislines import SubplotZero\n",
    "\n",
    "from statistics import stdev"
   ]
  },
  {
   "cell_type": "code",
   "execution_count": 59,
   "metadata": {},
   "outputs": [],
   "source": [
    "def setUniformDistribution(step):\n",
    "    return np.full(step + 1, 1/step)"
   ]
  },
  {
   "cell_type": "code",
   "execution_count": 60,
   "metadata": {},
   "outputs": [],
   "source": [
    "def getLikelihood(result, step):\n",
    "    if result == \"完走\":\n",
    "        return [1/step * i for i in range(step+1)]\n",
    "    elif result == \"失敗\":\n",
    "        return [1-(1/step * i) for i in range(step+1)]\n",
    "    else:\n",
    "        print(\"a\")"
   ]
  },
  {
   "cell_type": "code",
   "execution_count": 61,
   "metadata": {},
   "outputs": [],
   "source": [
    "def normalize(poster_dist):\n",
    "    norm_const = 1/sum(poster_dist)\n",
    "    return norm_const * poster_dist"
   ]
  },
  {
   "cell_type": "code",
   "execution_count": 62,
   "metadata": {},
   "outputs": [],
   "source": [
    "def getPosteriorDistribution(likelihood, prior_dist):\n",
    "    return likelihood * prior_dist"
   ]
  },
  {
   "cell_type": "code",
   "execution_count": 63,
   "metadata": {},
   "outputs": [],
   "source": [
    "def splitData(results_list):\n",
    "    result = []\n",
    "    results = []\n",
    "    for r in results_list:\n",
    "        if r == \",\" or r == \"\\n\":\n",
    "            results.append(result[:])\n",
    "            result.clear()\n",
    "            continue\n",
    "        result.append(r)\n",
    "    results.append(result)\n",
    "    return results"
   ]
  },
  {
   "cell_type": "code",
   "execution_count": 64,
   "metadata": {},
   "outputs": [],
   "source": [
    "def plot(poster_dists, prob, step):\n",
    "    fig = plt.figure()\n",
    "    ax = SubplotZero(fig, 111)\n",
    "    fig.add_subplot(ax)\n",
    "\n",
    "    for poster_dist in poster_dists:\n",
    "        prob_mean = sum([po*pr for (po, pr) in zip(poster_dist, prob)])\n",
    "        prob_stdev = stdev([po*pr for (po, pr) in zip(poster_dist, prob)])*10\n",
    "        prob_stdev_min = prob_mean - prob_stdev\n",
    "        prob_stdev_max = prob_mean + prob_stdev\n",
    "        if prob_stdev_min < 0:\n",
    "            prob_stdev_min = 0\n",
    "        if prob_stdev_max > 1:\n",
    "            prob_stdev_max = 1\n",
    "\n",
    "        ax.bar(prob, poster_dist, width=1/step, edgecolor=\"black\", alpha=0.6)\n",
    "        ax.text(prob_mean - 0.02,\n",
    "                np.max(poster_dist)*2.01, \"平均\", size=20)\n",
    "        ax.plot([[prob_mean]for i in range(2)],\n",
    "                [0, np.max(poster_dist)*2], lw=2, color=\"r\")\n",
    "        ax.fill_between([prob_stdev_min, prob_stdev_max],\n",
    "                        [0, 0],\n",
    "                        [np.max(poster_dist)*2, np.max(poster_dist)*2], alpha=0.2, color='red')\n",
    "        ax.text(prob_mean-0.04, np.max(poster_dist)*1.51, \"標準偏差\", size=20)\n",
    "        ax.annotate('',\n",
    "                    xy=[prob_stdev_min, np.max(poster_dist)*1.5],\n",
    "                    xytext=[prob_stdev_max, np.max(poster_dist)*1.5],\n",
    "                    arrowprops=dict(arrowstyle='<|-|>',\n",
    "                                    connectionstyle='arc3',\n",
    "                                    facecolor='C0',\n",
    "                                    edgecolor='C0'))\n",
    "        fig.add_subplot(ax)\n",
    "\n",
    "    ax.set_xlim(0.0, 1.0)\n",
    "    ax.set_ylim(0.0, 0.2)\n",
    "    for direction in [\"right\", \"top\"]:\n",
    "        ax.axis[direction].set_visible(False)\n",
    "    for direction in [\"left\",  \"bottom\"]:\n",
    "        ax.axis[direction].set_axisline_style(\"-|>\")\n",
    "    ax.grid(which='major', color='black')\n",
    "    ax.grid(which='minor', color='gray', linestyle='--')\n",
    "    ax.tick_params(labelsize=30)\n",
    "    ax.set_xlabel(\"完走率\", fontname='IPAGothic', fontsize=50)\n",
    "    ax.set_ylabel(\"確率\", fontname='IPAGothic', fontsize=50)\n",
    "    plt.show()"
   ]
  },
  {
   "cell_type": "code",
   "execution_count": 65,
   "metadata": {},
   "outputs": [
    {
     "name": "stdout",
     "output_type": "stream",
     "text": [
      "[['完走', '完走', '完走', '完走'], ['完走', '失敗', '失敗']]\n"
     ]
    }
   ],
   "source": [
    "step = 100\n",
    "results_data =[\"完走\", \"完走\", \"完走\", \"完走\", \",\",  \"完走\", \"失敗\", \"失敗\"]\n",
    "prob = [1/step * i for i in range(step+1)]\n",
    "\n",
    "prior_dist = np.array([])\n",
    "poster_dist = np.array([])\n",
    "poster_dist_list = []\n",
    "likelihood = np.array([])\n",
    "\n",
    "results_list = splitData(results_data)\n",
    "print(results_list)"
   ]
  },
  {
   "cell_type": "code",
   "execution_count": 66,
   "metadata": {},
   "outputs": [],
   "source": [
    "for results in results_list:\n",
    "    prior_dist = setUniformDistribution(step)\n",
    "    for result in results:\n",
    "        likelihood = getLikelihood(result, step)\n",
    "        poster_dist = getPosteriorDistribution(likelihood, prior_dist)\n",
    "        poster_dist = normalize(poster_dist)\n",
    "        prior_dist = poster_dist\n",
    "    poster_dist_list.append(poster_dist.tolist())"
   ]
  },
  {
   "cell_type": "code",
   "execution_count": 67,
   "metadata": {},
   "outputs": [
    {
     "data": {
      "image/png": "[encoded data removed]",
      "text/plain": [
       "<Figure size 640x480 with 1 Axes>"
      ]
     },
     "metadata": {},
     "output_type": "display_data"
    }
   ],
   "source": [
    "plot(poster_dist_list, prob, step)\n"
   ]
  }
 ],
 "metadata": {
  "kernelspec": {
   "display_name": "Python 3.10.6 64-bit",
   "language": "python",
   "name": "python3"
  },
  "language_info": {
   "codemirror_mode": {
    "name": "ipython",
    "version": 3
   },
   "file_extension": ".py",
   "mimetype": "text/x-python",
   "name": "python",
   "nbconvert_exporter": "python",
   "pygments_lexer": "ipython3",
   "version": "3.10.6"
  },
  "orig_nbformat": 4,
  "vscode": {
   "interpreter": {
    "hash": "31f2aee4e71d21fbe5cf8b01ff0e069b9275f58929596ceb00d14d90e3e16cd6"
   }
  }
 },
 "nbformat": 4,
 "nbformat_minor": 2
}
